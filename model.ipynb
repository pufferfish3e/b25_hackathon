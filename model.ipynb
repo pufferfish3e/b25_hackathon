{
 "cells": [
  {
   "cell_type": "markdown",
   "id": "37bb1cc8",
   "metadata": {},
   "source": [
    "Loads the dataset into the notebook."
   ]
  },
  {
   "cell_type": "code",
   "execution_count": null,
   "id": "f36cfe17",
   "metadata": {},
   "outputs": [
    {
     "name": "stdout",
     "output_type": "stream",
     "text": [
      "Found 4215 files belonging to 10 classes.\n",
      "Using 3372 files for training.\n",
      "Found 394 files belonging to 11 classes.\n"
     ]
    }
   ],
   "source": [
    "import tensorflow as tf\n",
    "import matplotlib.pyplot as plt\n",
    "\n",
    "# Data loading and preprocessing.\n",
    "# Resizing images to 300 x 300 and splitting into training, validation, and test sets.\n",
    "\n",
    "\n",
    "# Load training dataset, and set aside 20% for validation.\n",
    "data_dir = \"data/dataset/train\"\n",
    "batch_size = 32\n",
    "train_ds = tf.keras.preprocessing.image_dataset_from_directory(\n",
    "    data_dir,\n",
    "    validation_split=0.2,\n",
    "    subset=\"training\",\n",
    "    seed=1234,\n",
    "    image_size=(300, 300),\n",
    "    batch_size=batch_size\n",
    ")\n",
    "\n",
    "# Load test dataset\n",
    "data_dir = \"data/dataset/test\" \n",
    "batch_size = 32\n",
    "test_ds = tf.keras.preprocessing.image_dataset_from_directory(\n",
    "    data_dir,\n",
    "    seed=1234,\n",
    "    image_size=(300, 300),\n",
    "    batch_size=batch_size\n",
    ")\n",
    "\n",
    "\n"
   ]
  }
 ],
 "metadata": {
  "kernelspec": {
   "display_name": ".venv",
   "language": "python",
   "name": "python3"
  },
  "language_info": {
   "codemirror_mode": {
    "name": "ipython",
    "version": 3
   },
   "file_extension": ".py",
   "mimetype": "text/x-python",
   "name": "python",
   "nbconvert_exporter": "python",
   "pygments_lexer": "ipython3",
   "version": "3.11.0"
  }
 },
 "nbformat": 4,
 "nbformat_minor": 5
}
